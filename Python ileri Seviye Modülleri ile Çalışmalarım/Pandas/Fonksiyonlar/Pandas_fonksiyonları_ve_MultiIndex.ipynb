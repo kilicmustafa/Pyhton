{
 "cells": [
  {
   "cell_type": "code",
   "execution_count": 1,
   "metadata": {},
   "outputs": [],
   "source": [
    "import numpy as np\n",
    "import pandas as pd\n",
    "from numpy.random import randn"
   ]
  },
  {
   "cell_type": "code",
   "execution_count": 2,
   "metadata": {},
   "outputs": [],
   "source": [
    "outerIndex = [\"Group1\"  ,\"Group1\" ,\"Group1\" ,\"Group2\" ,\"Group2\" ,\"Group2\" ,\"Group3\" ,\"Group3\" ,\"Group3\"]"
   ]
  },
  {
   "cell_type": "code",
   "execution_count": 3,
   "metadata": {},
   "outputs": [],
   "source": [
    "innerIndex = [\"Index1\" ,\"Index2\" ,\"Index3\" ,\"Index1\" ,\"Index2\" ,\"Index3\" ,\"Index1\" ,\"Index2\" ,\"Index3\"]"
   ]
  },
  {
   "cell_type": "code",
   "execution_count": 5,
   "metadata": {},
   "outputs": [
    {
     "data": {
      "text/plain": [
       "[('Group1', 'Index1'),\n",
       " ('Group1', 'Index2'),\n",
       " ('Group1', 'Index3'),\n",
       " ('Group2', 'Index1'),\n",
       " ('Group2', 'Index2'),\n",
       " ('Group2', 'Index3'),\n",
       " ('Group3', 'Index1'),\n",
       " ('Group3', 'Index2'),\n",
       " ('Group3', 'Index3')]"
      ]
     },
     "execution_count": 5,
     "metadata": {},
     "output_type": "execute_result"
    }
   ],
   "source": [
    "list(zip(outerIndex ,innerIndex))"
   ]
  },
  {
   "cell_type": "code",
   "execution_count": 32,
   "metadata": {},
   "outputs": [],
   "source": [
    "hierarchy = list(zip(outerIndex ,innerIndex))"
   ]
  },
  {
   "cell_type": "code",
   "execution_count": 33,
   "metadata": {},
   "outputs": [
    {
     "data": {
      "text/plain": [
       "[('Group1', 'Index1'),\n",
       " ('Group1', 'Index2'),\n",
       " ('Group1', 'Index3'),\n",
       " ('Group2', 'Index1'),\n",
       " ('Group2', 'Index2'),\n",
       " ('Group2', 'Index3'),\n",
       " ('Group3', 'Index1'),\n",
       " ('Group3', 'Index2'),\n",
       " ('Group3', 'Index3')]"
      ]
     },
     "execution_count": 33,
     "metadata": {},
     "output_type": "execute_result"
    }
   ],
   "source": [
    "hierarchy"
   ]
  },
  {
   "cell_type": "code",
   "execution_count": 24,
   "metadata": {},
   "outputs": [],
   "source": [
    "hierarchy = pd.MultiIndex.from_tuples(hierarchy)"
   ]
  },
  {
   "cell_type": "code",
   "execution_count": 25,
   "metadata": {},
   "outputs": [],
   "source": [
    "hierarchy = pd.MultiIndex.from_tuples(hierarchy)"
   ]
  },
  {
   "cell_type": "code",
   "execution_count": 26,
   "metadata": {},
   "outputs": [
    {
     "data": {
      "text/plain": [
       "MultiIndex([('Group1', 'Index1'),\n",
       "            ('Group1', 'Index2'),\n",
       "            ('Group1', 'Index3'),\n",
       "            ('Group2', 'Index1'),\n",
       "            ('Group2', 'Index2'),\n",
       "            ('Group2', 'Index3'),\n",
       "            ('Group3', 'Index1'),\n",
       "            ('Group3', 'Index2'),\n",
       "            ('Group3', 'Index3')],\n",
       "           )"
      ]
     },
     "execution_count": 26,
     "metadata": {},
     "output_type": "execute_result"
    }
   ],
   "source": [
    "hierarchy"
   ]
  },
  {
   "cell_type": "code",
   "execution_count": 34,
   "metadata": {},
   "outputs": [],
   "source": [
    "hierarchy = list(zip(outerIndex,innerIndex))\n",
    "hierarchy = pd.MultiIndex.from_tuples(hierarchy)"
   ]
  },
  {
   "cell_type": "code",
   "execution_count": 35,
   "metadata": {},
   "outputs": [
    {
     "data": {
      "text/plain": [
       "MultiIndex([('Group1', 'Index1'),\n",
       "            ('Group1', 'Index2'),\n",
       "            ('Group1', 'Index3'),\n",
       "            ('Group2', 'Index1'),\n",
       "            ('Group2', 'Index2'),\n",
       "            ('Group2', 'Index3'),\n",
       "            ('Group3', 'Index1'),\n",
       "            ('Group3', 'Index2'),\n",
       "            ('Group3', 'Index3')],\n",
       "           )"
      ]
     },
     "execution_count": 35,
     "metadata": {},
     "output_type": "execute_result"
    }
   ],
   "source": [
    "hierarchy"
   ]
  },
  {
   "cell_type": "code",
   "execution_count": 36,
   "metadata": {},
   "outputs": [],
   "source": [
    "hierarchy = zip(outerIndex ,innerIndex)"
   ]
  },
  {
   "cell_type": "code",
   "execution_count": 37,
   "metadata": {},
   "outputs": [],
   "source": [
    "hierarchy = pd.MultiIndex.from_tuples(hierarchy)"
   ]
  },
  {
   "cell_type": "code",
   "execution_count": 38,
   "metadata": {},
   "outputs": [
    {
     "data": {
      "text/plain": [
       "MultiIndex([('Group1', 'Index1'),\n",
       "            ('Group1', 'Index2'),\n",
       "            ('Group1', 'Index3'),\n",
       "            ('Group2', 'Index1'),\n",
       "            ('Group2', 'Index2'),\n",
       "            ('Group2', 'Index3'),\n",
       "            ('Group3', 'Index1'),\n",
       "            ('Group3', 'Index2'),\n",
       "            ('Group3', 'Index3')],\n",
       "           )"
      ]
     },
     "execution_count": 38,
     "metadata": {},
     "output_type": "execute_result"
    }
   ],
   "source": [
    "hierarchy"
   ]
  },
  {
   "cell_type": "code",
   "execution_count": 39,
   "metadata": {},
   "outputs": [],
   "source": [
    "df = pd.DataFrame(randn(9,3) ,hierarchy ,columns = [\"A\" ,\"B\" ,\"C\"])"
   ]
  },
  {
   "cell_type": "code",
   "execution_count": 40,
   "metadata": {},
   "outputs": [
    {
     "data": {
      "text/html": [
       "<div>\n",
       "<style scoped>\n",
       "    .dataframe tbody tr th:only-of-type {\n",
       "        vertical-align: middle;\n",
       "    }\n",
       "\n",
       "    .dataframe tbody tr th {\n",
       "        vertical-align: top;\n",
       "    }\n",
       "\n",
       "    .dataframe thead th {\n",
       "        text-align: right;\n",
       "    }\n",
       "</style>\n",
       "<table border=\"1\" class=\"dataframe\">\n",
       "  <thead>\n",
       "    <tr style=\"text-align: right;\">\n",
       "      <th></th>\n",
       "      <th></th>\n",
       "      <th>A</th>\n",
       "      <th>B</th>\n",
       "      <th>C</th>\n",
       "    </tr>\n",
       "  </thead>\n",
       "  <tbody>\n",
       "    <tr>\n",
       "      <td rowspan=\"3\" valign=\"top\">Group1</td>\n",
       "      <td>Index1</td>\n",
       "      <td>-0.992557</td>\n",
       "      <td>1.003453</td>\n",
       "      <td>0.070728</td>\n",
       "    </tr>\n",
       "    <tr>\n",
       "      <td>Index2</td>\n",
       "      <td>2.636614</td>\n",
       "      <td>0.561776</td>\n",
       "      <td>-0.051688</td>\n",
       "    </tr>\n",
       "    <tr>\n",
       "      <td>Index3</td>\n",
       "      <td>2.555703</td>\n",
       "      <td>0.611833</td>\n",
       "      <td>-0.822338</td>\n",
       "    </tr>\n",
       "    <tr>\n",
       "      <td rowspan=\"3\" valign=\"top\">Group2</td>\n",
       "      <td>Index1</td>\n",
       "      <td>-0.624778</td>\n",
       "      <td>0.454073</td>\n",
       "      <td>-0.600606</td>\n",
       "    </tr>\n",
       "    <tr>\n",
       "      <td>Index2</td>\n",
       "      <td>-0.183107</td>\n",
       "      <td>-1.073816</td>\n",
       "      <td>-0.517908</td>\n",
       "    </tr>\n",
       "    <tr>\n",
       "      <td>Index3</td>\n",
       "      <td>-0.352971</td>\n",
       "      <td>-0.347822</td>\n",
       "      <td>1.539785</td>\n",
       "    </tr>\n",
       "    <tr>\n",
       "      <td rowspan=\"3\" valign=\"top\">Group3</td>\n",
       "      <td>Index1</td>\n",
       "      <td>-0.130529</td>\n",
       "      <td>2.172728</td>\n",
       "      <td>-0.578529</td>\n",
       "    </tr>\n",
       "    <tr>\n",
       "      <td>Index2</td>\n",
       "      <td>0.506535</td>\n",
       "      <td>-0.025549</td>\n",
       "      <td>-0.286661</td>\n",
       "    </tr>\n",
       "    <tr>\n",
       "      <td>Index3</td>\n",
       "      <td>-1.332947</td>\n",
       "      <td>0.684899</td>\n",
       "      <td>0.169226</td>\n",
       "    </tr>\n",
       "  </tbody>\n",
       "</table>\n",
       "</div>"
      ],
      "text/plain": [
       "                      A         B         C\n",
       "Group1 Index1 -0.992557  1.003453  0.070728\n",
       "       Index2  2.636614  0.561776 -0.051688\n",
       "       Index3  2.555703  0.611833 -0.822338\n",
       "Group2 Index1 -0.624778  0.454073 -0.600606\n",
       "       Index2 -0.183107 -1.073816 -0.517908\n",
       "       Index3 -0.352971 -0.347822  1.539785\n",
       "Group3 Index1 -0.130529  2.172728 -0.578529\n",
       "       Index2  0.506535 -0.025549 -0.286661\n",
       "       Index3 -1.332947  0.684899  0.169226"
      ]
     },
     "execution_count": 40,
     "metadata": {},
     "output_type": "execute_result"
    }
   ],
   "source": [
    "df"
   ]
  },
  {
   "cell_type": "code",
   "execution_count": 41,
   "metadata": {},
   "outputs": [
    {
     "data": {
      "text/plain": [
       "Group1  Index1   -0.992557\n",
       "        Index2    2.636614\n",
       "        Index3    2.555703\n",
       "Group2  Index1   -0.624778\n",
       "        Index2   -0.183107\n",
       "        Index3   -0.352971\n",
       "Group3  Index1   -0.130529\n",
       "        Index2    0.506535\n",
       "        Index3   -1.332947\n",
       "Name: A, dtype: float64"
      ]
     },
     "execution_count": 41,
     "metadata": {},
     "output_type": "execute_result"
    }
   ],
   "source": [
    "df[\"A\"]"
   ]
  },
  {
   "cell_type": "code",
   "execution_count": 42,
   "metadata": {},
   "outputs": [
    {
     "data": {
      "text/html": [
       "<div>\n",
       "<style scoped>\n",
       "    .dataframe tbody tr th:only-of-type {\n",
       "        vertical-align: middle;\n",
       "    }\n",
       "\n",
       "    .dataframe tbody tr th {\n",
       "        vertical-align: top;\n",
       "    }\n",
       "\n",
       "    .dataframe thead th {\n",
       "        text-align: right;\n",
       "    }\n",
       "</style>\n",
       "<table border=\"1\" class=\"dataframe\">\n",
       "  <thead>\n",
       "    <tr style=\"text-align: right;\">\n",
       "      <th></th>\n",
       "      <th>A</th>\n",
       "      <th>B</th>\n",
       "      <th>C</th>\n",
       "    </tr>\n",
       "  </thead>\n",
       "  <tbody>\n",
       "    <tr>\n",
       "      <td>Index1</td>\n",
       "      <td>-0.992557</td>\n",
       "      <td>1.003453</td>\n",
       "      <td>0.070728</td>\n",
       "    </tr>\n",
       "    <tr>\n",
       "      <td>Index2</td>\n",
       "      <td>2.636614</td>\n",
       "      <td>0.561776</td>\n",
       "      <td>-0.051688</td>\n",
       "    </tr>\n",
       "    <tr>\n",
       "      <td>Index3</td>\n",
       "      <td>2.555703</td>\n",
       "      <td>0.611833</td>\n",
       "      <td>-0.822338</td>\n",
       "    </tr>\n",
       "  </tbody>\n",
       "</table>\n",
       "</div>"
      ],
      "text/plain": [
       "               A         B         C\n",
       "Index1 -0.992557  1.003453  0.070728\n",
       "Index2  2.636614  0.561776 -0.051688\n",
       "Index3  2.555703  0.611833 -0.822338"
      ]
     },
     "execution_count": 42,
     "metadata": {},
     "output_type": "execute_result"
    }
   ],
   "source": [
    "df.loc[\"Group1\"]"
   ]
  },
  {
   "cell_type": "code",
   "execution_count": 44,
   "metadata": {},
   "outputs": [
    {
     "data": {
      "text/html": [
       "<div>\n",
       "<style scoped>\n",
       "    .dataframe tbody tr th:only-of-type {\n",
       "        vertical-align: middle;\n",
       "    }\n",
       "\n",
       "    .dataframe tbody tr th {\n",
       "        vertical-align: top;\n",
       "    }\n",
       "\n",
       "    .dataframe thead th {\n",
       "        text-align: right;\n",
       "    }\n",
       "</style>\n",
       "<table border=\"1\" class=\"dataframe\">\n",
       "  <thead>\n",
       "    <tr style=\"text-align: right;\">\n",
       "      <th></th>\n",
       "      <th>A</th>\n",
       "      <th>B</th>\n",
       "      <th>C</th>\n",
       "    </tr>\n",
       "  </thead>\n",
       "  <tbody>\n",
       "    <tr>\n",
       "      <td>Index1</td>\n",
       "      <td>-0.624778</td>\n",
       "      <td>0.454073</td>\n",
       "      <td>-0.600606</td>\n",
       "    </tr>\n",
       "    <tr>\n",
       "      <td>Index2</td>\n",
       "      <td>-0.183107</td>\n",
       "      <td>-1.073816</td>\n",
       "      <td>-0.517908</td>\n",
       "    </tr>\n",
       "    <tr>\n",
       "      <td>Index3</td>\n",
       "      <td>-0.352971</td>\n",
       "      <td>-0.347822</td>\n",
       "      <td>1.539785</td>\n",
       "    </tr>\n",
       "  </tbody>\n",
       "</table>\n",
       "</div>"
      ],
      "text/plain": [
       "               A         B         C\n",
       "Index1 -0.624778  0.454073 -0.600606\n",
       "Index2 -0.183107 -1.073816 -0.517908\n",
       "Index3 -0.352971 -0.347822  1.539785"
      ]
     },
     "execution_count": 44,
     "metadata": {},
     "output_type": "execute_result"
    }
   ],
   "source": [
    "df.loc[\"Group2\"]"
   ]
  },
  {
   "cell_type": "code",
   "execution_count": 45,
   "metadata": {},
   "outputs": [
    {
     "data": {
      "text/html": [
       "<div>\n",
       "<style scoped>\n",
       "    .dataframe tbody tr th:only-of-type {\n",
       "        vertical-align: middle;\n",
       "    }\n",
       "\n",
       "    .dataframe tbody tr th {\n",
       "        vertical-align: top;\n",
       "    }\n",
       "\n",
       "    .dataframe thead th {\n",
       "        text-align: right;\n",
       "    }\n",
       "</style>\n",
       "<table border=\"1\" class=\"dataframe\">\n",
       "  <thead>\n",
       "    <tr style=\"text-align: right;\">\n",
       "      <th></th>\n",
       "      <th>A</th>\n",
       "      <th>B</th>\n",
       "      <th>C</th>\n",
       "    </tr>\n",
       "  </thead>\n",
       "  <tbody>\n",
       "    <tr>\n",
       "      <td>Index1</td>\n",
       "      <td>-0.130529</td>\n",
       "      <td>2.172728</td>\n",
       "      <td>-0.578529</td>\n",
       "    </tr>\n",
       "    <tr>\n",
       "      <td>Index2</td>\n",
       "      <td>0.506535</td>\n",
       "      <td>-0.025549</td>\n",
       "      <td>-0.286661</td>\n",
       "    </tr>\n",
       "    <tr>\n",
       "      <td>Index3</td>\n",
       "      <td>-1.332947</td>\n",
       "      <td>0.684899</td>\n",
       "      <td>0.169226</td>\n",
       "    </tr>\n",
       "  </tbody>\n",
       "</table>\n",
       "</div>"
      ],
      "text/plain": [
       "               A         B         C\n",
       "Index1 -0.130529  2.172728 -0.578529\n",
       "Index2  0.506535 -0.025549 -0.286661\n",
       "Index3 -1.332947  0.684899  0.169226"
      ]
     },
     "execution_count": 45,
     "metadata": {},
     "output_type": "execute_result"
    }
   ],
   "source": [
    "df.loc[\"Group3\"]"
   ]
  },
  {
   "cell_type": "code",
   "execution_count": 50,
   "metadata": {},
   "outputs": [
    {
     "data": {
      "text/html": [
       "<div>\n",
       "<style scoped>\n",
       "    .dataframe tbody tr th:only-of-type {\n",
       "        vertical-align: middle;\n",
       "    }\n",
       "\n",
       "    .dataframe tbody tr th {\n",
       "        vertical-align: top;\n",
       "    }\n",
       "\n",
       "    .dataframe thead th {\n",
       "        text-align: right;\n",
       "    }\n",
       "</style>\n",
       "<table border=\"1\" class=\"dataframe\">\n",
       "  <thead>\n",
       "    <tr style=\"text-align: right;\">\n",
       "      <th></th>\n",
       "      <th></th>\n",
       "      <th>A</th>\n",
       "      <th>B</th>\n",
       "      <th>C</th>\n",
       "    </tr>\n",
       "  </thead>\n",
       "  <tbody>\n",
       "    <tr>\n",
       "      <td rowspan=\"3\" valign=\"top\">Group1</td>\n",
       "      <td>Index1</td>\n",
       "      <td>-0.992557</td>\n",
       "      <td>1.003453</td>\n",
       "      <td>0.070728</td>\n",
       "    </tr>\n",
       "    <tr>\n",
       "      <td>Index2</td>\n",
       "      <td>2.636614</td>\n",
       "      <td>0.561776</td>\n",
       "      <td>-0.051688</td>\n",
       "    </tr>\n",
       "    <tr>\n",
       "      <td>Index3</td>\n",
       "      <td>2.555703</td>\n",
       "      <td>0.611833</td>\n",
       "      <td>-0.822338</td>\n",
       "    </tr>\n",
       "    <tr>\n",
       "      <td rowspan=\"3\" valign=\"top\">Group2</td>\n",
       "      <td>Index1</td>\n",
       "      <td>-0.624778</td>\n",
       "      <td>0.454073</td>\n",
       "      <td>-0.600606</td>\n",
       "    </tr>\n",
       "    <tr>\n",
       "      <td>Index2</td>\n",
       "      <td>-0.183107</td>\n",
       "      <td>-1.073816</td>\n",
       "      <td>-0.517908</td>\n",
       "    </tr>\n",
       "    <tr>\n",
       "      <td>Index3</td>\n",
       "      <td>-0.352971</td>\n",
       "      <td>-0.347822</td>\n",
       "      <td>1.539785</td>\n",
       "    </tr>\n",
       "  </tbody>\n",
       "</table>\n",
       "</div>"
      ],
      "text/plain": [
       "                      A         B         C\n",
       "Group1 Index1 -0.992557  1.003453  0.070728\n",
       "       Index2  2.636614  0.561776 -0.051688\n",
       "       Index3  2.555703  0.611833 -0.822338\n",
       "Group2 Index1 -0.624778  0.454073 -0.600606\n",
       "       Index2 -0.183107 -1.073816 -0.517908\n",
       "       Index3 -0.352971 -0.347822  1.539785"
      ]
     },
     "execution_count": 50,
     "metadata": {},
     "output_type": "execute_result"
    }
   ],
   "source": [
    "df.loc[[\"Group1\" ,\"Group2\"]]"
   ]
  },
  {
   "cell_type": "code",
   "execution_count": 54,
   "metadata": {},
   "outputs": [
    {
     "data": {
      "text/html": [
       "<div>\n",
       "<style scoped>\n",
       "    .dataframe tbody tr th:only-of-type {\n",
       "        vertical-align: middle;\n",
       "    }\n",
       "\n",
       "    .dataframe tbody tr th {\n",
       "        vertical-align: top;\n",
       "    }\n",
       "\n",
       "    .dataframe thead th {\n",
       "        text-align: right;\n",
       "    }\n",
       "</style>\n",
       "<table border=\"1\" class=\"dataframe\">\n",
       "  <thead>\n",
       "    <tr style=\"text-align: right;\">\n",
       "      <th></th>\n",
       "      <th></th>\n",
       "      <th>A</th>\n",
       "      <th>B</th>\n",
       "      <th>C</th>\n",
       "    </tr>\n",
       "  </thead>\n",
       "  <tbody>\n",
       "    <tr>\n",
       "      <td rowspan=\"3\" valign=\"top\">Group1</td>\n",
       "      <td>Index1</td>\n",
       "      <td>-0.992557</td>\n",
       "      <td>1.003453</td>\n",
       "      <td>0.070728</td>\n",
       "    </tr>\n",
       "    <tr>\n",
       "      <td>Index2</td>\n",
       "      <td>2.636614</td>\n",
       "      <td>0.561776</td>\n",
       "      <td>-0.051688</td>\n",
       "    </tr>\n",
       "    <tr>\n",
       "      <td>Index3</td>\n",
       "      <td>2.555703</td>\n",
       "      <td>0.611833</td>\n",
       "      <td>-0.822338</td>\n",
       "    </tr>\n",
       "    <tr>\n",
       "      <td rowspan=\"3\" valign=\"top\">Group2</td>\n",
       "      <td>Index1</td>\n",
       "      <td>-0.624778</td>\n",
       "      <td>0.454073</td>\n",
       "      <td>-0.600606</td>\n",
       "    </tr>\n",
       "    <tr>\n",
       "      <td>Index2</td>\n",
       "      <td>-0.183107</td>\n",
       "      <td>-1.073816</td>\n",
       "      <td>-0.517908</td>\n",
       "    </tr>\n",
       "    <tr>\n",
       "      <td>Index3</td>\n",
       "      <td>-0.352971</td>\n",
       "      <td>-0.347822</td>\n",
       "      <td>1.539785</td>\n",
       "    </tr>\n",
       "  </tbody>\n",
       "</table>\n",
       "</div>"
      ],
      "text/plain": [
       "                      A         B         C\n",
       "Group1 Index1 -0.992557  1.003453  0.070728\n",
       "       Index2  2.636614  0.561776 -0.051688\n",
       "       Index3  2.555703  0.611833 -0.822338\n",
       "Group2 Index1 -0.624778  0.454073 -0.600606\n",
       "       Index2 -0.183107 -1.073816 -0.517908\n",
       "       Index3 -0.352971 -0.347822  1.539785"
      ]
     },
     "execution_count": 54,
     "metadata": {},
     "output_type": "execute_result"
    }
   ],
   "source": [
    "df.loc[[\"Group1\" ,\"Group2\"]]"
   ]
  },
  {
   "cell_type": "code",
   "execution_count": 55,
   "metadata": {},
   "outputs": [
    {
     "data": {
      "text/plain": [
       "A   -0.992557\n",
       "B    1.003453\n",
       "C    0.070728\n",
       "Name: Index1, dtype: float64"
      ]
     },
     "execution_count": 55,
     "metadata": {},
     "output_type": "execute_result"
    }
   ],
   "source": [
    "df.loc[\"Group1\"].loc[\"Index1\"]"
   ]
  },
  {
   "cell_type": "code",
   "execution_count": 56,
   "metadata": {},
   "outputs": [
    {
     "data": {
      "text/plain": [
       "FrozenList([None, None])"
      ]
     },
     "execution_count": 56,
     "metadata": {},
     "output_type": "execute_result"
    }
   ],
   "source": [
    "df.index.names"
   ]
  },
  {
   "cell_type": "code",
   "execution_count": 57,
   "metadata": {},
   "outputs": [],
   "source": [
    "df.index.names = [\"Groups\" ,\"Indexes\"]"
   ]
  },
  {
   "cell_type": "code",
   "execution_count": 58,
   "metadata": {},
   "outputs": [
    {
     "data": {
      "text/html": [
       "<div>\n",
       "<style scoped>\n",
       "    .dataframe tbody tr th:only-of-type {\n",
       "        vertical-align: middle;\n",
       "    }\n",
       "\n",
       "    .dataframe tbody tr th {\n",
       "        vertical-align: top;\n",
       "    }\n",
       "\n",
       "    .dataframe thead th {\n",
       "        text-align: right;\n",
       "    }\n",
       "</style>\n",
       "<table border=\"1\" class=\"dataframe\">\n",
       "  <thead>\n",
       "    <tr style=\"text-align: right;\">\n",
       "      <th></th>\n",
       "      <th></th>\n",
       "      <th>A</th>\n",
       "      <th>B</th>\n",
       "      <th>C</th>\n",
       "    </tr>\n",
       "    <tr>\n",
       "      <th>Groups</th>\n",
       "      <th>Indexes</th>\n",
       "      <th></th>\n",
       "      <th></th>\n",
       "      <th></th>\n",
       "    </tr>\n",
       "  </thead>\n",
       "  <tbody>\n",
       "    <tr>\n",
       "      <td rowspan=\"3\" valign=\"top\">Group1</td>\n",
       "      <td>Index1</td>\n",
       "      <td>-0.992557</td>\n",
       "      <td>1.003453</td>\n",
       "      <td>0.070728</td>\n",
       "    </tr>\n",
       "    <tr>\n",
       "      <td>Index2</td>\n",
       "      <td>2.636614</td>\n",
       "      <td>0.561776</td>\n",
       "      <td>-0.051688</td>\n",
       "    </tr>\n",
       "    <tr>\n",
       "      <td>Index3</td>\n",
       "      <td>2.555703</td>\n",
       "      <td>0.611833</td>\n",
       "      <td>-0.822338</td>\n",
       "    </tr>\n",
       "    <tr>\n",
       "      <td rowspan=\"3\" valign=\"top\">Group2</td>\n",
       "      <td>Index1</td>\n",
       "      <td>-0.624778</td>\n",
       "      <td>0.454073</td>\n",
       "      <td>-0.600606</td>\n",
       "    </tr>\n",
       "    <tr>\n",
       "      <td>Index2</td>\n",
       "      <td>-0.183107</td>\n",
       "      <td>-1.073816</td>\n",
       "      <td>-0.517908</td>\n",
       "    </tr>\n",
       "    <tr>\n",
       "      <td>Index3</td>\n",
       "      <td>-0.352971</td>\n",
       "      <td>-0.347822</td>\n",
       "      <td>1.539785</td>\n",
       "    </tr>\n",
       "    <tr>\n",
       "      <td rowspan=\"3\" valign=\"top\">Group3</td>\n",
       "      <td>Index1</td>\n",
       "      <td>-0.130529</td>\n",
       "      <td>2.172728</td>\n",
       "      <td>-0.578529</td>\n",
       "    </tr>\n",
       "    <tr>\n",
       "      <td>Index2</td>\n",
       "      <td>0.506535</td>\n",
       "      <td>-0.025549</td>\n",
       "      <td>-0.286661</td>\n",
       "    </tr>\n",
       "    <tr>\n",
       "      <td>Index3</td>\n",
       "      <td>-1.332947</td>\n",
       "      <td>0.684899</td>\n",
       "      <td>0.169226</td>\n",
       "    </tr>\n",
       "  </tbody>\n",
       "</table>\n",
       "</div>"
      ],
      "text/plain": [
       "                       A         B         C\n",
       "Groups Indexes                              \n",
       "Group1 Index1  -0.992557  1.003453  0.070728\n",
       "       Index2   2.636614  0.561776 -0.051688\n",
       "       Index3   2.555703  0.611833 -0.822338\n",
       "Group2 Index1  -0.624778  0.454073 -0.600606\n",
       "       Index2  -0.183107 -1.073816 -0.517908\n",
       "       Index3  -0.352971 -0.347822  1.539785\n",
       "Group3 Index1  -0.130529  2.172728 -0.578529\n",
       "       Index2   0.506535 -0.025549 -0.286661\n",
       "       Index3  -1.332947  0.684899  0.169226"
      ]
     },
     "execution_count": 58,
     "metadata": {},
     "output_type": "execute_result"
    }
   ],
   "source": [
    "df"
   ]
  },
  {
   "cell_type": "code",
   "execution_count": 59,
   "metadata": {},
   "outputs": [
    {
     "data": {
      "text/plain": [
       "-0.9925569526566198"
      ]
     },
     "execution_count": 59,
     "metadata": {},
     "output_type": "execute_result"
    }
   ],
   "source": [
    "df.loc[\"Group1\"].loc[\"Index1\"][\"A\"]"
   ]
  },
  {
   "cell_type": "code",
   "execution_count": 60,
   "metadata": {},
   "outputs": [
    {
     "data": {
      "text/html": [
       "<div>\n",
       "<style scoped>\n",
       "    .dataframe tbody tr th:only-of-type {\n",
       "        vertical-align: middle;\n",
       "    }\n",
       "\n",
       "    .dataframe tbody tr th {\n",
       "        vertical-align: top;\n",
       "    }\n",
       "\n",
       "    .dataframe thead th {\n",
       "        text-align: right;\n",
       "    }\n",
       "</style>\n",
       "<table border=\"1\" class=\"dataframe\">\n",
       "  <thead>\n",
       "    <tr style=\"text-align: right;\">\n",
       "      <th></th>\n",
       "      <th>A</th>\n",
       "      <th>B</th>\n",
       "      <th>C</th>\n",
       "    </tr>\n",
       "    <tr>\n",
       "      <th>Indexes</th>\n",
       "      <th></th>\n",
       "      <th></th>\n",
       "      <th></th>\n",
       "    </tr>\n",
       "  </thead>\n",
       "  <tbody>\n",
       "    <tr>\n",
       "      <td>Index1</td>\n",
       "      <td>-0.992557</td>\n",
       "      <td>1.003453</td>\n",
       "      <td>0.070728</td>\n",
       "    </tr>\n",
       "    <tr>\n",
       "      <td>Index2</td>\n",
       "      <td>2.636614</td>\n",
       "      <td>0.561776</td>\n",
       "      <td>-0.051688</td>\n",
       "    </tr>\n",
       "    <tr>\n",
       "      <td>Index3</td>\n",
       "      <td>2.555703</td>\n",
       "      <td>0.611833</td>\n",
       "      <td>-0.822338</td>\n",
       "    </tr>\n",
       "  </tbody>\n",
       "</table>\n",
       "</div>"
      ],
      "text/plain": [
       "                A         B         C\n",
       "Indexes                              \n",
       "Index1  -0.992557  1.003453  0.070728\n",
       "Index2   2.636614  0.561776 -0.051688\n",
       "Index3   2.555703  0.611833 -0.822338"
      ]
     },
     "execution_count": 60,
     "metadata": {},
     "output_type": "execute_result"
    }
   ],
   "source": [
    "df.xs(\"Group1\")"
   ]
  },
  {
   "cell_type": "code",
   "execution_count": 61,
   "metadata": {},
   "outputs": [
    {
     "data": {
      "text/plain": [
       "A    2.555703\n",
       "B    0.611833\n",
       "C   -0.822338\n",
       "Name: Index3, dtype: float64"
      ]
     },
     "execution_count": 61,
     "metadata": {},
     "output_type": "execute_result"
    }
   ],
   "source": [
    "df.xs(\"Group1\").xs(\"Index3\")"
   ]
  },
  {
   "cell_type": "code",
   "execution_count": 62,
   "metadata": {},
   "outputs": [
    {
     "data": {
      "text/plain": [
       "1.0034531721181035"
      ]
     },
     "execution_count": 62,
     "metadata": {},
     "output_type": "execute_result"
    }
   ],
   "source": [
    "df.xs(\"Group1\").xs(\"Index1\").xs(\"B\")"
   ]
  },
  {
   "cell_type": "code",
   "execution_count": 63,
   "metadata": {},
   "outputs": [
    {
     "data": {
      "text/html": [
       "<div>\n",
       "<style scoped>\n",
       "    .dataframe tbody tr th:only-of-type {\n",
       "        vertical-align: middle;\n",
       "    }\n",
       "\n",
       "    .dataframe tbody tr th {\n",
       "        vertical-align: top;\n",
       "    }\n",
       "\n",
       "    .dataframe thead th {\n",
       "        text-align: right;\n",
       "    }\n",
       "</style>\n",
       "<table border=\"1\" class=\"dataframe\">\n",
       "  <thead>\n",
       "    <tr style=\"text-align: right;\">\n",
       "      <th></th>\n",
       "      <th>A</th>\n",
       "      <th>B</th>\n",
       "      <th>C</th>\n",
       "    </tr>\n",
       "    <tr>\n",
       "      <th>Groups</th>\n",
       "      <th></th>\n",
       "      <th></th>\n",
       "      <th></th>\n",
       "    </tr>\n",
       "  </thead>\n",
       "  <tbody>\n",
       "    <tr>\n",
       "      <td>Group1</td>\n",
       "      <td>-0.992557</td>\n",
       "      <td>1.003453</td>\n",
       "      <td>0.070728</td>\n",
       "    </tr>\n",
       "    <tr>\n",
       "      <td>Group2</td>\n",
       "      <td>-0.624778</td>\n",
       "      <td>0.454073</td>\n",
       "      <td>-0.600606</td>\n",
       "    </tr>\n",
       "    <tr>\n",
       "      <td>Group3</td>\n",
       "      <td>-0.130529</td>\n",
       "      <td>2.172728</td>\n",
       "      <td>-0.578529</td>\n",
       "    </tr>\n",
       "  </tbody>\n",
       "</table>\n",
       "</div>"
      ],
      "text/plain": [
       "               A         B         C\n",
       "Groups                              \n",
       "Group1 -0.992557  1.003453  0.070728\n",
       "Group2 -0.624778  0.454073 -0.600606\n",
       "Group3 -0.130529  2.172728 -0.578529"
      ]
     },
     "execution_count": 63,
     "metadata": {},
     "output_type": "execute_result"
    }
   ],
   "source": [
    "df.xs(\"Index1\" ,level = \"Indexes\")"
   ]
  },
  {
   "cell_type": "code",
   "execution_count": null,
   "metadata": {},
   "outputs": [],
   "source": []
  }
 ],
 "metadata": {
  "kernelspec": {
   "display_name": "Python 3",
   "language": "python",
   "name": "python3"
  },
  "language_info": {
   "codemirror_mode": {
    "name": "ipython",
    "version": 3
   },
   "file_extension": ".py",
   "mimetype": "text/x-python",
   "name": "python",
   "nbconvert_exporter": "python",
   "pygments_lexer": "ipython3",
   "version": "3.7.4"
  }
 },
 "nbformat": 4,
 "nbformat_minor": 2
}
